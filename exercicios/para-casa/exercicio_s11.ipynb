

{
 "cells": [
  {
   "cell_type": "markdown",
   "metadata": {},
   "source": [Utilizar a tabela de dados do clima de seu estado, manipule os dados de acordo com as instruções abaixo: 
- calcular a média da temperatura da amostra 
- retirar nulos da coluna 'RADIACAO GLOBAL (Kj/m2)' 
- copiar o dataframe reduzindo para 3 colunas (a sua escolha) e 1000 linhas (aleatórias) 
- Bônus: normalizar coluna (qualquer uma) 
- Bônus II: pesquisar sobre outras formas de processamento de dados além das vistas em sala de aula]
  },
  {
   "cell_type": "code",
   "execution_count": null,
   "metadata": {},
   "outputs": [],
   "source": []
  }
 ],
 "metadata": {
  "language_info": {
   "name": "python"
  }
 },
 "nbformat": 4,
 "nbformat_minor": 2
}


